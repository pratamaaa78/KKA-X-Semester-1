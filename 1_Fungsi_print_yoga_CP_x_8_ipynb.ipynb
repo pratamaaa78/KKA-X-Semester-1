{
  "nbformat": 4,
  "nbformat_minor": 0,
  "metadata": {
    "colab": {
      "provenance": [],
      "authorship_tag": "ABX9TyN4g006XhLYphYzSC+AEGwo",
      "include_colab_link": true
    },
    "kernelspec": {
      "name": "python3",
      "display_name": "Python 3"
    },
    "language_info": {
      "name": "python"
    }
  },
  "cells": [
    {
      "cell_type": "markdown",
      "metadata": {
        "id": "view-in-github",
        "colab_type": "text"
      },
      "source": [
        "<a href=\"https://colab.research.google.com/github/pratamaaa78/KKA-X-Semester-1/blob/main/1_Fungsi_print_yoga_CP_x_8_ipynb.ipynb\" target=\"_parent\"><img src=\"https://colab.research.google.com/assets/colab-badge.svg\" alt=\"Open In Colab\"/></a>"
      ]
    },
    {
      "cell_type": "markdown",
      "source": [
        "Nama:yoga candra pratama\n",
        "\n",
        "Kelas:x.8\n",
        "\n",
        "No absen:38"
      ],
      "metadata": {
        "id": "teB7qevDdjIF"
      }
    },
    {
      "cell_type": "markdown",
      "source": [
        "#Menampilkan Teks Bebas"
      ],
      "metadata": {
        "id": "_a8p9Xhdfkt5"
      }
    },
    {
      "cell_type": "code",
      "execution_count": null,
      "metadata": {
        "colab": {
          "base_uri": "https://localhost:8080/"
        },
        "id": "dt9EttrKbtPP",
        "outputId": "6e0892bc-cd56-44b1-d0b3-ed787aaa437a"
      },
      "outputs": [
        {
          "output_type": "stream",
          "name": "stdout",
          "text": [
            "Helo World\n"
          ]
        }
      ],
      "source": [
        "print(\"Helo World\")"
      ]
    },
    {
      "cell_type": "code",
      "source": [
        "print(\"yoga candra pratama\")"
      ],
      "metadata": {
        "colab": {
          "base_uri": "https://localhost:8080/"
        },
        "id": "C1qDvCIAhX6Z",
        "outputId": "5f6b29dc-02bd-46ac-993a-88104a99027a"
      },
      "execution_count": null,
      "outputs": [
        {
          "output_type": "stream",
          "name": "stdout",
          "text": [
            "yoga candra pratama\n"
          ]
        }
      ]
    },
    {
      "cell_type": "markdown",
      "source": [
        "#Menampilkan Nilai Variabel"
      ],
      "metadata": {
        "id": "ON-4CMswiFgb"
      }
    },
    {
      "cell_type": "code",
      "source": [
        "usia=15\n",
        "\n",
        "print(usia)"
      ],
      "metadata": {
        "colab": {
          "base_uri": "https://localhost:8080/"
        },
        "id": "7iQA6HCWiRDR",
        "outputId": "ec1ea499-5cf1-40e4-dcbe-c38b81d2fec9"
      },
      "execution_count": null,
      "outputs": [
        {
          "output_type": "stream",
          "name": "stdout",
          "text": [
            "15\n"
          ]
        }
      ]
    },
    {
      "cell_type": "code",
      "source": [
        "Nama=\"yoga candra pratama\"\n",
        "\n",
        "print(Nama)"
      ],
      "metadata": {
        "colab": {
          "base_uri": "https://localhost:8080/"
        },
        "id": "p1KOG2yCjPHt",
        "outputId": "78043537-5a9e-42c3-84b9-e27c9f0636b0"
      },
      "execution_count": null,
      "outputs": [
        {
          "output_type": "stream",
          "name": "stdout",
          "text": [
            "yoga candra pratama\n"
          ]
        }
      ]
    },
    {
      "cell_type": "code",
      "source": [
        "BB=85\n",
        "\n",
        "print(BB)"
      ],
      "metadata": {
        "colab": {
          "base_uri": "https://localhost:8080/"
        },
        "id": "LU0_yccQkBDU",
        "outputId": "eae233c2-e7f6-4e51-e485-1e5a1c797845"
      },
      "execution_count": null,
      "outputs": [
        {
          "output_type": "stream",
          "name": "stdout",
          "text": [
            "85\n"
          ]
        }
      ]
    },
    {
      "cell_type": "markdown",
      "source": [
        "#Menampilkan Teks Bebas dan Nilai Variabel"
      ],
      "metadata": {
        "id": "GyX4CX02lGMl"
      }
    },
    {
      "cell_type": "code",
      "source": [
        "print(f\"perkenalkan nama saya {Nama}.\")"
      ],
      "metadata": {
        "colab": {
          "base_uri": "https://localhost:8080/"
        },
        "id": "irQBLiEnlWHT",
        "outputId": "b1d57078-9a17-41dc-ad87-0427e226fdc5"
      },
      "execution_count": null,
      "outputs": [
        {
          "output_type": "stream",
          "name": "stdout",
          "text": [
            "perkenalkan nama saya yoga candra pratama.\n"
          ]
        }
      ]
    },
    {
      "cell_type": "code",
      "source": [
        "print (f\"berat badan saya {BB}kg.\")"
      ],
      "metadata": {
        "colab": {
          "base_uri": "https://localhost:8080/"
        },
        "id": "Oi_p2P5Kl7jz",
        "outputId": "0e592c24-502f-4331-e9f9-4f61599a790a"
      },
      "execution_count": null,
      "outputs": [
        {
          "output_type": "stream",
          "name": "stdout",
          "text": [
            "berat badan saya 85kg.\n"
          ]
        }
      ]
    },
    {
      "cell_type": "code",
      "source": [
        "print (\"perkenalkan nama saya\"+Nama)"
      ],
      "metadata": {
        "colab": {
          "base_uri": "https://localhost:8080/"
        },
        "id": "ZugkJApym5PF",
        "outputId": "229359dd-b293-422d-eef1-98a1306e29f3"
      },
      "execution_count": null,
      "outputs": [
        {
          "output_type": "stream",
          "name": "stdout",
          "text": [
            "perkenalkan nama sayayoga candra pratama\n"
          ]
        }
      ]
    },
    {
      "cell_type": "code",
      "source": [
        "print (\"berat badan saya \"+str(BB)+\" Kg.\")"
      ],
      "metadata": {
        "colab": {
          "base_uri": "https://localhost:8080/"
        },
        "id": "1Q4OxJEInW-x",
        "outputId": "8e068906-ada4-4b17-8424-065a875ac329"
      },
      "execution_count": null,
      "outputs": [
        {
          "output_type": "stream",
          "name": "stdout",
          "text": [
            "berat badan saya 85 Kg.\n"
          ]
        }
      ]
    },
    {
      "cell_type": "code",
      "source": [
        "print (\"berat badan saya\",BB,\" Kg.\")"
      ],
      "metadata": {
        "colab": {
          "base_uri": "https://localhost:8080/"
        },
        "id": "QrJfPu3Xoa_W",
        "outputId": "7a2bad89-b193-4700-cc0c-552d47d63013"
      },
      "execution_count": null,
      "outputs": [
        {
          "output_type": "stream",
          "name": "stdout",
          "text": [
            "berat badan saya 85  Kg.\n"
          ]
        }
      ]
    },
    {
      "cell_type": "markdown",
      "source": [
        "#Escape Character"
      ],
      "metadata": {
        "id": "Uyf0mOZ7hPYv"
      }
    },
    {
      "cell_type": "code",
      "source": [
        "print(\"Nama:yoga candra pratama\\nkelas: x.8\\nNo.Absen: 38\")"
      ],
      "metadata": {
        "id": "p0qZtEz8hlk7",
        "colab": {
          "base_uri": "https://localhost:8080/"
        },
        "outputId": "988215a9-c0ed-42b0-e8b2-e3f1c106ba9c"
      },
      "execution_count": null,
      "outputs": [
        {
          "output_type": "stream",
          "name": "stdout",
          "text": [
            "Nama:yoga candra pratama\n",
            "kelas: x.8\n",
            "No.Absen: 38\n"
          ]
        }
      ]
    },
    {
      "cell_type": "code",
      "source": [
        "print(\"\"\"Nama\\t\\t:yoga candra pratama\n",
        "kelas\\t\\t: x.8\n",
        "No.Absen\\t: 38\"\"\")"
      ],
      "metadata": {
        "colab": {
          "base_uri": "https://localhost:8080/"
        },
        "id": "wIc_WzjPlWE3",
        "outputId": "02548f6d-8dd6-4b73-98a5-0ab172f51dc2"
      },
      "execution_count": null,
      "outputs": [
        {
          "output_type": "stream",
          "name": "stdout",
          "text": [
            "Nama\t\t:yoga candra pratama\n",
            "kelas\t\t: x.8\n",
            "No.Absen\t: 38\n"
          ]
        }
      ]
    },
    {
      "cell_type": "code",
      "source": [
        "print(\"Nama:ja'far shodiq\\nkelas: x.8\\nNo.Absen: 38\")"
      ],
      "metadata": {
        "colab": {
          "base_uri": "https://localhost:8080/"
        },
        "id": "fe057MHqmgz_",
        "outputId": "bc7a2d07-758e-48b4-8424-0d114637758d"
      },
      "execution_count": null,
      "outputs": [
        {
          "output_type": "stream",
          "name": "stdout",
          "text": [
            "Nama:ja'far shodiq\n",
            "kelas: x.8\n",
            "No.Absen: 38\n"
          ]
        }
      ]
    },
    {
      "cell_type": "code",
      "source": [
        "print('Nama:ja\\'far shodiq\\nkelas: x.8\\nNo.Absen: 38')"
      ],
      "metadata": {
        "colab": {
          "base_uri": "https://localhost:8080/"
        },
        "id": "uZZnhSxlm0xu",
        "outputId": "d9162202-011b-4c0e-ad38-a56451e06f30"
      },
      "execution_count": null,
      "outputs": [
        {
          "output_type": "stream",
          "name": "stdout",
          "text": [
            "Nama:ja'far shodiq\n",
            "kelas: x.8\n",
            "No.Absen: 38\n"
          ]
        }
      ]
    },
    {
      "cell_type": "code",
      "source": [
        "print(\"Lokasi File Tugas KKA: Local Disk C:\\\\KKA\\\\Tugas yoga\")"
      ],
      "metadata": {
        "colab": {
          "base_uri": "https://localhost:8080/"
        },
        "id": "DBWRQVNhnBjO",
        "outputId": "7bf68525-ec13-4007-c8d6-e2b7168e03a8"
      },
      "execution_count": null,
      "outputs": [
        {
          "output_type": "stream",
          "name": "stdout",
          "text": [
            "Lokasi File Tugas KKA: Local Disk C:\\KKA\\Tugas yoga\n"
          ]
        }
      ]
    },
    {
      "cell_type": "markdown",
      "source": [
        "#Parameter Fungsi print"
      ],
      "metadata": {
        "id": "bZoEgdv1q8SY"
      }
    },
    {
      "cell_type": "code",
      "source": [
        "Tahun = 2025\n",
        "Bulan = \"Agustus\"\n",
        "Tanggal = 23\n",
        "\n",
        "print(Tahun, Bulan, Tanggal, sep=\"-\")"
      ],
      "metadata": {
        "colab": {
          "base_uri": "https://localhost:8080/"
        },
        "id": "CqaR7Q5_rDTB",
        "outputId": "3ad625d5-8005-447b-984d-3eaf67fc046a"
      },
      "execution_count": null,
      "outputs": [
        {
          "output_type": "stream",
          "name": "stdout",
          "text": [
            "2025-Agustus-23\n"
          ]
        }
      ]
    },
    {
      "cell_type": "code",
      "source": [],
      "metadata": {
        "id": "hko7Htp5kCxG"
      },
      "execution_count": null,
      "outputs": []
    },
    {
      "cell_type": "code",
      "source": [
        "nama_depan = \"yoga\"\n",
        "nama_belakang =\"candra\"\n",
        "\n",
        "print(nama_depan, end=\" \")\n",
        "print(nama_belakang)"
      ],
      "metadata": {
        "colab": {
          "base_uri": "https://localhost:8080/"
        },
        "id": "50-sEkWWrkzl",
        "outputId": "2a42f531-920e-4088-e0a9-c91a8f638958"
      },
      "execution_count": null,
      "outputs": [
        {
          "output_type": "stream",
          "name": "stdout",
          "text": [
            "yoga candra\n"
          ]
        }
      ]
    },
    {
      "cell_type": "code",
      "source": [
        "nama_siswa_1= \"dinda\"\n",
        "nama_siswa_2= \"aurin\"\n",
        "nama_siswa_3= \"lisaan\"\n",
        "\n",
        "print(nama_siswa_3, nama_siswa_2, nama_siswa_3, nama_siswa_1, sep=\"/\")"
      ],
      "metadata": {
        "colab": {
          "base_uri": "https://localhost:8080/"
        },
        "id": "bYFpQzh4kHm6",
        "outputId": "4216309c-c14c-416b-8568-c17c5c44b357"
      },
      "execution_count": null,
      "outputs": [
        {
          "output_type": "stream",
          "name": "stdout",
          "text": [
            "lisaan/aurin/lisaan/dinda\n"
          ]
        }
      ]
    },
    {
      "cell_type": "code",
      "source": [
        "nama_siswa_4 =\"Azkal\"\n",
        "nama_siswa_5 =\"Hasyim\"\n",
        "nama_siswa_6 =\"Chilmi\"\n",
        "nama_siswa_7 =\"Nova\"\n",
        "\n",
        "print(nama_siswa_6, end=\"~\")\n",
        "print(nama_siswa_4)\n",
        "\n",
        "print(nama_siswa_5, end=\"-\")\n",
        "print(nama_siswa_7)\n",
        "\n",
        "print(nama_siswa_4, end=\"/\")\n",
        "print(nama_siswa_7, end=\"&\")\n",
        "print(nama_siswa_5)"
      ],
      "metadata": {
        "colab": {
          "base_uri": "https://localhost:8080/"
        },
        "id": "pDB5gRtKobxi",
        "outputId": "1365254a-22d5-4f1c-f419-21408466e0c9"
      },
      "execution_count": null,
      "outputs": [
        {
          "output_type": "stream",
          "name": "stdout",
          "text": [
            "Chilmi~Azkal\n",
            "Hasyim-Nova\n",
            "Azkal/Nova&Hasyim\n"
          ]
        }
      ]
    }
  ]
}